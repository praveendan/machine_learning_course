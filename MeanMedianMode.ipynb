{
 "cells": [
  {
   "cell_type": "markdown",
   "metadata": {},
   "source": [
    "# Mean, Median, Mode, and introducing NumPy"
   ]
  },
  {
   "cell_type": "markdown",
   "metadata": {},
   "source": [
    "## Mean vs. Median"
   ]
  },
  {
   "cell_type": "markdown",
   "metadata": {},
   "source": [
    "Let's create some fake income data, centered around 27,000 with a normal distribution and standard deviation of 15,000, with 10,000 data points. (We'll discuss those terms more later, if you're not familiar with them.)\n",
    "\n",
    "Then, compute the mean (average) - it should be close to 27,000:"
   ]
  },
  {
   "cell_type": "code",
   "execution_count": 1,
   "metadata": {},
   "outputs": [
    {
     "data": {
      "text/plain": [
       "26813.899923018853"
      ]
     },
     "execution_count": 1,
     "metadata": {},
     "output_type": "execute_result"
    }
   ],
   "source": [
    "import numpy as np\n",
    "\n",
    "incomes = np.random.normal(27000, 15000, 10000) #cnter 27000 deviation 15000 10000 items\n",
    "np.mean(incomes)"
   ]
  },
  {
   "cell_type": "markdown",
   "metadata": {},
   "source": [
    "We can segment the income data into 50 buckets, and plot it as a histogram:"
   ]
  },
  {
   "cell_type": "code",
   "execution_count": 3,
   "metadata": {},
   "outputs": [
    {
     "data": {
      "image/png": "[encoded data removed]",
      "text/plain": [
       "<Figure size 640x480 with 1 Axes>"
      ]
     },
     "metadata": {},
     "output_type": "display_data"
    }
   ],
   "source": [
    "%matplotlib inline\n",
    "import matplotlib.pyplot as plt\n",
    "plt.hist(incomes, 50) #plot a histogram\n",
    "plt.show()"
   ]
  },
  {
   "cell_type": "markdown",
   "metadata": {},
   "source": [
    "Now compute the median - since we have a nice, even distribution it too should be close to 27,000:"
   ]
  },
  {
   "cell_type": "code",
   "execution_count": 6,
   "metadata": {},
   "outputs": [
    {
     "data": {
      "text/plain": [
       "27192.474752211383"
      ]
     },
     "execution_count": 6,
     "metadata": {},
     "output_type": "execute_result"
    }
   ],
   "source": [
    "np.median(incomes)"
   ]
  },
  {
   "cell_type": "code",
   "execution_count": 7,
   "metadata": {},
   "outputs": [
    {
     "data": {
      "text/plain": [
       "26813.899923018853"
      ]
     },
     "execution_count": 7,
     "metadata": {},
     "output_type": "execute_result"
    }
   ],
   "source": [
    "np.mean(incomes)"
   ]
  },
  {
   "cell_type": "markdown",
   "metadata": {},
   "source": [
    "Now we'll add Jeff Bezos into the mix. Darn income inequality!"
   ]
  },
  {
   "cell_type": "code",
   "execution_count": 8,
   "metadata": {},
   "outputs": [],
   "source": [
    "incomes = np.append(incomes, [1000000000])"
   ]
  },
  {
   "cell_type": "markdown",
   "metadata": {},
   "source": [
    "The median won't change much, but the mean does:"
   ]
  },
  {
   "cell_type": "code",
   "execution_count": 9,
   "metadata": {},
   "outputs": [
    {
     "data": {
      "text/plain": [
       "27196.30143739219"
      ]
     },
     "execution_count": 9,
     "metadata": {},
     "output_type": "execute_result"
    }
   ],
   "source": [
    "np.median(incomes)"
   ]
  },
  {
   "cell_type": "code",
   "execution_count": 10,
   "metadata": {},
   "outputs": [
    {
     "data": {
      "text/plain": [
       "126801.21980103874"
      ]
     },
     "execution_count": 10,
     "metadata": {},
     "output_type": "execute_result"
    }
   ],
   "source": [
    "np.mean(incomes)"
   ]
  },
  {
   "cell_type": "markdown",
   "metadata": {},
   "source": [
    "## Mode"
   ]
  },
  {
   "cell_type": "markdown",
   "metadata": {},
   "source": [
    "Next, let's generate some fake age data for 500 people:"
   ]
  },
  {
   "cell_type": "code",
   "execution_count": 13,
   "metadata": {},
   "outputs": [
    {
     "data": {
      "text/plain": [
       "array([72, 52, 56, 67, 39, 29, 20, 81, 41, 30, 39, 38, 71, 51, 31, 58, 22,\n",
       "       62, 80, 72, 62, 47, 23, 53, 26, 55, 79, 43, 60, 58, 35, 79, 18, 68,\n",
       "       86, 85, 24, 41, 80, 88, 61, 57, 28, 82, 26, 86, 49, 58, 18, 32, 46,\n",
       "       20, 26, 72, 80, 78, 31, 85, 65, 56, 45, 27, 35, 84, 81, 42, 36, 18,\n",
       "       40, 52, 42, 87, 81, 63, 81, 32, 76, 23, 39, 18, 42, 37, 76, 53, 61,\n",
       "       74, 53, 59, 52, 22, 71, 18, 82, 65, 39, 48, 29, 71, 88, 30, 48, 59,\n",
       "       68, 49, 33, 26, 88, 30, 58, 28, 47, 82, 41, 46, 80, 80, 66, 85, 69,\n",
       "       42, 36, 21, 46, 65, 85, 88, 37, 51, 62, 69, 33, 42, 44, 18, 65, 44,\n",
       "       67, 74, 69, 27, 38, 76, 28, 24, 43, 65, 57, 69, 20, 25, 33, 56, 77,\n",
       "       73, 47, 29, 25, 62, 39, 18, 33, 55, 74, 50, 57, 27, 40, 63, 65, 73,\n",
       "       65, 29, 81, 66, 25, 49, 77, 18, 27, 39, 42, 29, 22, 65, 33, 61, 48,\n",
       "       43, 74, 51, 51, 86, 45, 18, 24, 51, 61, 69, 51, 88, 61, 22, 26, 71,\n",
       "       28, 57, 40, 33, 24, 83, 50, 89, 74, 88, 47, 69, 71, 45, 42, 45, 57,\n",
       "       36, 28, 74, 37, 23, 57, 89, 83, 86, 73, 50, 64, 19, 59, 35, 55, 89,\n",
       "       21, 44, 24, 45, 71, 41, 45, 51, 63, 67, 65, 51, 34, 55, 51, 69, 48,\n",
       "       19, 52, 42, 44, 25, 88, 29, 80, 79, 38, 33, 40, 18, 82, 23, 22, 43,\n",
       "       83, 39, 45, 80, 56, 73, 28, 59, 54, 57, 57, 48, 55, 33, 46, 56, 37,\n",
       "       61, 67, 69, 42, 44, 21, 63, 71, 36, 79, 74, 24, 52, 26, 30, 66, 68,\n",
       "       23, 83, 57, 51, 27, 62, 88, 28, 67, 80, 66, 68, 86, 59, 43, 75, 47,\n",
       "       26, 32, 64, 76, 31, 76, 67, 74, 88, 53, 67, 71, 22, 26, 59, 23, 18,\n",
       "       35, 52, 58, 40, 69, 86, 25, 45, 29, 87, 28, 70, 37, 22, 83, 74, 74,\n",
       "       42, 37, 24, 70, 29, 66, 19, 51, 74, 46, 22, 49, 61, 69, 31, 70, 89,\n",
       "       68, 85, 82, 61, 37, 54, 23, 38, 27, 86, 51, 71, 32, 64, 62, 52, 87,\n",
       "       73, 29, 80, 32, 59, 24, 57, 38, 19, 72, 62, 84, 88, 81, 70, 73, 31,\n",
       "       65, 56, 20, 45, 68, 59, 54, 42, 72, 34, 31, 76, 55, 49, 35, 69, 54,\n",
       "       59, 44, 47, 77, 86, 50, 41, 89, 23, 78, 84, 79, 38, 40, 88, 81, 38,\n",
       "       44, 41, 45, 70, 47, 85, 20, 23, 20, 67, 55, 34, 63, 41, 29, 75, 21,\n",
       "       48, 51, 53, 72, 65, 46, 70, 89, 19, 20, 32, 60, 29, 20, 53, 31, 76,\n",
       "       83, 84, 47, 75, 87, 65, 89, 38, 70, 21, 71, 86, 61, 51, 82, 54, 50,\n",
       "       52, 72, 80, 77, 74, 66, 53])"
      ]
     },
     "execution_count": 13,
     "metadata": {},
     "output_type": "execute_result"
    }
   ],
   "source": [
    "ages = np.random.randint(18, high=90, size=500) # 18 to 90 years, 500 people\n",
    "ages"
   ]
  },
  {
   "cell_type": "code",
   "execution_count": 14,
   "metadata": {},
   "outputs": [
    {
     "data": {
      "text/plain": [
       "ModeResult(mode=51, count=14)"
      ]
     },
     "execution_count": 14,
     "metadata": {},
     "output_type": "execute_result"
    }
   ],
   "source": [
    "from scipy import stats\n",
    "stats.mode(ages)"
   ]
  },
  {
   "cell_type": "code",
   "execution_count": null,
   "metadata": {},
   "outputs": [],
   "source": []
  }
 ],
 "metadata": {
  "kernelspec": {
   "display_name": "Python 3 (ipykernel)",
   "language": "python",
   "name": "python3"
  },
  "language_info": {
   "codemirror_mode": {
    "name": "ipython",
    "version": 3
   },
   "file_extension": ".py",
   "mimetype": "text/x-python",
   "name": "python",
   "nbconvert_exporter": "python",
   "pygments_lexer": "ipython3",
   "version": "3.12.7"
  }
 },
 "nbformat": 4,
 "nbformat_minor": 4
}
